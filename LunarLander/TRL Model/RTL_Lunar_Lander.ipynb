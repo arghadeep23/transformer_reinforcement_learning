{
 "cells": [
  {
   "cell_type": "code",
   "execution_count": 2,
   "metadata": {
    "id": "WPdoRIqKZKqy"
   },
   "outputs": [],
   "source": [
    "import torch\n",
    "import torch.nn as nn\n",
    "import torch.optim as optim\n",
    "import torch.nn.functional as F\n",
    "import numpy as np\n",
    "import gymnasium as gym\n",
    "from collections import deque, namedtuple\n",
    "\n",
    "class TransformerBlock(nn.Module):\n",
    "    def __init__(self, hidden_dim, num_heads, ff_dim, dropout):\n",
    "        super(TransformerBlock, self).__init__()\n",
    "        self.attention = nn.MultiheadAttention(hidden_dim, num_heads, dropout=dropout)\n",
    "        self.feed_forward = nn.Sequential(\n",
    "            nn.Linear(hidden_dim, ff_dim),\n",
    "            nn.ReLU(),\n",
    "            nn.Linear(ff_dim, hidden_dim),\n",
    "        )\n",
    "        self.layernorm1 = nn.LayerNorm(hidden_dim)\n",
    "        self.layernorm2 = nn.LayerNorm(hidden_dim)\n",
    "        self.dropout = nn.Dropout(dropout)\n",
    "\n",
    "    def forward(self, x):\n",
    "        attn_output, _ = self.attention(x, x, x)\n",
    "        x = self.layernorm1(x + attn_output)\n",
    "        ff_output = self.feed_forward(x)\n",
    "        x = self.layernorm2(x + self.dropout(ff_output))\n",
    "        return x\n",
    "\n",
    "class TransformerModel(nn.Module):\n",
    "    def __init__(self, state_size, action_size, hidden_dim=64, num_layers=2, num_heads=4, ff_dim=128, dropout=0.1):\n",
    "        super(TransformerModel, self).__init__()\n",
    "        self.embedding = nn.Linear(state_size, hidden_dim)\n",
    "        self.transformer_blocks = nn.ModuleList([\n",
    "            TransformerBlock(hidden_dim, num_heads, ff_dim, dropout) for _ in range(num_layers)\n",
    "        ])\n",
    "        self.fc = nn.Linear(hidden_dim, action_size)\n",
    "\n",
    "    def forward(self, state):\n",
    "        state = state.unsqueeze(1)  # Add a dummy sequence dimension\n",
    "        x = self.embedding(state)\n",
    "        x = x.permute(1, 0, 2)  # (batch_size, seq_len, hidden_dim) -> (seq_len, batch_size, hidden_dim)\n",
    "        for transformer in self.transformer_blocks:\n",
    "            x = transformer(x)\n",
    "        x = x.permute(1, 0, 2)  # (seq_len, batch_size, hidden_dim) -> (batch_size, seq_len, hidden_dim)\n",
    "        return self.fc(x[:, 0, :])\n"
   ]
  },
  {
   "cell_type": "code",
   "execution_count": 3,
   "metadata": {
    "colab": {
     "base_uri": "https://localhost:8080/"
    },
    "id": "_SW6smP1ZP-m",
    "outputId": "733c9548-3bb8-4e82-db56-227df0822720"
   },
   "outputs": [],
   "source": [
    "class ReplayMemory(object):\n",
    "    def __init__(self, capacity):\n",
    "        self.device = torch.device(\"cuda:0\" if torch.cuda.is_available() else \"cpu\")\n",
    "        self.capacity = capacity\n",
    "        self.memory = []\n",
    "\n",
    "    def push(self, event):\n",
    "        self.memory.append(event)\n",
    "        if len(self.memory) > self.capacity:\n",
    "            del self.memory[0]\n",
    "\n",
    "    def sample(self, batch_size):\n",
    "        experiences = random.sample(self.memory, k=batch_size)\n",
    "        states = torch.from_numpy(np.vstack([e[0] for e in experiences if e is not None])).float().to(self.device)\n",
    "        actions = torch.from_numpy(np.vstack([e[1] for e in experiences if e is not None])).long().to(self.device)\n",
    "        rewards = torch.from_numpy(np.vstack([e[2] for e in experiences if e is not None])).float().to(self.device)\n",
    "        next_states = torch.from_numpy(np.vstack([e[3] for e in experiences if e is not None])).float().to(self.device)\n",
    "        dones = torch.from_numpy(np.vstack([e[4] for e in experiences if e is not None]).astype(np.uint8)).float().to(self.device)\n",
    "        return states, next_states, actions, rewards, dones"
   ]
  },
  {
   "cell_type": "code",
   "execution_count": 4,
   "metadata": {
    "id": "TM38c3IRZR_a"
   },
   "outputs": [],
   "source": [
    "class Agent():\n",
    "    def __init__(self, state_size, action_size, learning_rate=5e-4, minibatch_size=100, discount_factor=0.99, replay_buffer_size=int(1e5), interpolation_parameter=1e-3):\n",
    "        self.device = torch.device(\"cuda:0\" if torch.cuda.is_available() else \"cpu\")\n",
    "        self.state_size = state_size\n",
    "        self.action_size = action_size\n",
    "        self.local_qnetwork = TransformerModel(state_size, action_size).to(self.device)\n",
    "        self.target_qnetwork = TransformerModel(state_size, action_size).to(self.device)\n",
    "        self.optimizer = optim.Adam(self.local_qnetwork.parameters(), lr=learning_rate)\n",
    "        self.memory = ReplayMemory(replay_buffer_size)\n",
    "        self.t_step = 0\n",
    "        self.minibatch_size = minibatch_size\n",
    "        self.discount_factor = discount_factor\n",
    "        self.interpolation_parameter = interpolation_parameter\n",
    "\n",
    "    def step(self, state, action, reward, next_state, done):\n",
    "        self.memory.push((state, action, reward, next_state, done))\n",
    "        self.t_step = (self.t_step + 1) % 4\n",
    "        if self.t_step == 0:\n",
    "            if len(self.memory.memory) > self.minibatch_size:\n",
    "                experiences = self.memory.sample(self.minibatch_size)\n",
    "                self.learn(experiences, self.discount_factor)\n",
    "\n",
    "    def act(self, state, epsilon=0.):\n",
    "        state = torch.from_numpy(state).float().unsqueeze(0).to(self.device)\n",
    "        self.local_qnetwork.eval()\n",
    "        with torch.no_grad():\n",
    "            action_values = self.local_qnetwork(state)\n",
    "        self.local_qnetwork.train()\n",
    "        if random.random() > epsilon:\n",
    "            return np.argmax(action_values.cpu().data.numpy())\n",
    "        else:\n",
    "            return random.choice(np.arange(self.action_size))\n",
    "\n",
    "    def learn(self, experiences, discount_factor):\n",
    "        states, next_states, actions, rewards, dones = experiences\n",
    "        next_q_targets = self.target_qnetwork(next_states).detach().max(1)[0].unsqueeze(1)\n",
    "        q_targets = rewards + discount_factor * next_q_targets * (1 - dones)\n",
    "        q_expected = self.local_qnetwork(states).gather(1, actions)\n",
    "        loss = F.mse_loss(q_expected, q_targets)\n",
    "        self.optimizer.zero_grad()\n",
    "        loss.backward()\n",
    "        self.optimizer.step()\n",
    "        self.soft_update(self.local_qnetwork, self.target_qnetwork, self.interpolation_parameter)\n",
    "\n",
    "    def soft_update(self, local_model, target_model, interpolation_parameter):\n",
    "        for target_param, local_param in zip(target_model.parameters(), local_model.parameters()):\n",
    "            target_param.data.copy_(interpolation_parameter * local_param.data + (1.0 - interpolation_parameter) * target_param.data)"
   ]
  },
  {
   "cell_type": "code",
   "execution_count": 5,
   "metadata": {
    "colab": {
     "base_uri": "https://localhost:8080/"
    },
    "id": "otbGDotvZUnG",
    "outputId": "8cb39b09-e645-44d6-8634-776072d4f254"
   },
   "outputs": [
    {
     "name": "stdout",
     "output_type": "stream",
     "text": [
      "State shape:  (8,)\n",
      "State size:  8\n",
      "Number of actions:  4\n"
     ]
    }
   ],
   "source": [
    "# Environment\n",
    "env = gym.make('LunarLander-v2')\n",
    "state_shape = env.observation_space.shape\n",
    "state_size = env.observation_space.shape[0]\n",
    "number_actions = env.action_space.n\n",
    "print('State shape: ', state_shape)\n",
    "print('State size: ', state_size)\n",
    "print('Number of actions: ', number_actions)\n",
    "\n",
    "# Agent\n",
    "agent = Agent(state_size, number_actions)\n",
    "number_episodes = 2000\n",
    "maximum_number_timesteps_per_episode = 1000\n",
    "epsilon_starting_value = 1.0\n",
    "epsilon_ending_value = 0.01\n",
    "epsilon_decay_value = 0.995\n",
    "epsilon = epsilon_starting_value\n",
    "scores_on_100_episodes = deque(maxlen=100)"
   ]
  },
  {
   "cell_type": "code",
   "execution_count": 6,
   "metadata": {
    "colab": {
     "base_uri": "https://localhost:8080/"
    },
    "id": "W9pwGeEA7V66",
    "outputId": "805bd515-06b4-428f-c5d2-0a9bf8766f3b"
   },
   "outputs": [
    {
     "name": "stdout",
     "output_type": "stream",
     "text": [
      "Episode 100\tEpsilon: 0.61\tEpisode Reward: -166.42\tAverage Score: -160.53\n",
      "Episode 200\tEpsilon: 0.37\tEpisode Reward: -329.21\tAverage Score: -87.494\n",
      "Episode 300\tEpsilon: 0.22\tEpisode Reward: -5.08\tAverage Score: 7.184519\n",
      "Episode 400\tEpsilon: 0.13\tEpisode Reward: 148.55\tAverage Score: 40.036\n",
      "Episode 500\tEpsilon: 0.08\tEpisode Reward: 39.26\tAverage Score: 162.355\n",
      "Episode 600\tEpsilon: 0.05\tEpisode Reward: 167.44\tAverage Score: 196.18\n",
      "Episode 611\tEpsilon: 0.05\tEpisode Reward: 272.19\tAverage Score: 200.10\n",
      "Environment solved in 511 episodes!\tAverage Score: 200.10\n"
     ]
    }
   ],
   "source": [
    "import random\n",
    "for episode in range(1, number_episodes + 1):\n",
    "    state, _ = env.reset()\n",
    "    score = 0\n",
    "    for t in range(maximum_number_timesteps_per_episode):\n",
    "        action = agent.act(state, epsilon)\n",
    "        next_state, reward, done, _, _ = env.step(action)\n",
    "        agent.step(state, action, reward, next_state, done)\n",
    "        state = next_state\n",
    "        score += reward\n",
    "        if done:\n",
    "            break\n",
    "    scores_on_100_episodes.append(score)\n",
    "    epsilon = max(epsilon_ending_value, epsilon_decay_value * epsilon)\n",
    "    print('\\rEpisode {}\\tEpsilon: {:.2f}\\tEpisode Reward: {:.2f}\\tAverage Score: {:.2f}'.format(episode, epsilon, score, np.mean(scores_on_100_episodes)), end=\"\")\n",
    "    if episode % 100 == 0:\n",
    "        print('\\rEpisode {}\\tEpsilon: {:.2f}\\tEpisode Reward: {:.2f}\\tAverage Score: {:.2f}'.format(episode, epsilon, score, np.mean(scores_on_100_episodes)))\n",
    "    if np.mean(scores_on_100_episodes) >= 200.0:\n",
    "        print('\\nEnvironment solved in {:d} episodes!\\tAverage Score: {:.2f}'.format(episode - 100, np.mean(scores_on_100_episodes)))\n",
    "        torch.save(agent.local_qnetwork.state_dict(), 'checkpoint.pth')\n",
    "        break\n"
   ]
  },
  {
   "cell_type": "code",
   "execution_count": 1,
   "metadata": {
    "id": "ef4A6C1uyJoi"
   },
   "outputs": [
    {
     "name": "stderr",
     "output_type": "stream",
     "text": [
      "C:\\Users\\91939\\AppData\\Local\\Temp\\ipykernel_21160\\1151367226.py:11: FutureWarning: You are using `torch.load` with `weights_only=False` (the current default value), which uses the default pickle module implicitly. It is possible to construct malicious pickle data which will execute arbitrary code during unpickling (See https://github.com/pytorch/pytorch/blob/main/SECURITY.md#untrusted-models for more details). In a future release, the default value for `weights_only` will be flipped to `True`. This limits the functions that could be executed during unpickling. Arbitrary objects will no longer be allowed to be loaded via this mode unless they are explicitly allowlisted by the user via `torch.serialization.add_safe_globals`. We recommend you start setting `weights_only=True` for any use case where you don't have full control of the loaded file. Please open an issue on GitHub for any issues related to this experimental feature.\n",
      "  state_dict = torch.load('checkpoint.pth')\n"
     ]
    },
    {
     "ename": "NameError",
     "evalue": "name 'agent' is not defined",
     "output_type": "error",
     "traceback": [
      "\u001b[1;31m---------------------------------------------------------------------------\u001b[0m",
      "\u001b[1;31mNameError\u001b[0m                                 Traceback (most recent call last)",
      "Cell \u001b[1;32mIn[1], line 12\u001b[0m\n\u001b[0;32m     10\u001b[0m \u001b[38;5;66;03m# Assuming you already have the trained model loaded\u001b[39;00m\n\u001b[0;32m     11\u001b[0m state_dict \u001b[38;5;241m=\u001b[39m torch\u001b[38;5;241m.\u001b[39mload(\u001b[38;5;124m'\u001b[39m\u001b[38;5;124mcheckpoint.pth\u001b[39m\u001b[38;5;124m'\u001b[39m)\n\u001b[1;32m---> 12\u001b[0m agent\u001b[38;5;241m.\u001b[39mlocal_qnetwork\u001b[38;5;241m.\u001b[39mload_state_dict(state_dict)\n\u001b[0;32m     14\u001b[0m \u001b[38;5;66;03m# Function to visualize an episode and save the video\u001b[39;00m\n\u001b[0;32m     15\u001b[0m \u001b[38;5;28;01mdef\u001b[39;00m \u001b[38;5;21mvisualize_episode\u001b[39m(env, agent, video_folder, max_timesteps\u001b[38;5;241m=\u001b[39m\u001b[38;5;241m1000\u001b[39m):\n",
      "\u001b[1;31mNameError\u001b[0m: name 'agent' is not defined"
     ]
    }
   ],
   "source": [
    "import torch\n",
    "import gymnasium as gym\n",
    "from gymnasium.wrappers import RecordVideo\n",
    "import numpy as np\n",
    "from collections import deque\n",
    "import io\n",
    "import base64\n",
    "from IPython.display import HTML\n",
    "\n",
    "# Assuming you already have the trained model loaded\n",
    "state_dict = torch.load('checkpoint.pth')\n",
    "agent.local_qnetwork.load_state_dict(state_dict)\n",
    "\n",
    "# Function to visualize an episode and save the video\n",
    "def visualize_episode(env, agent, video_folder, max_timesteps=1000):\n",
    "    env = RecordVideo(env, video_folder=video_folder, episode_trigger=lambda x: True)\n",
    "    state, _ = env.reset()\n",
    "    total_reward = 0\n",
    "    for t in range(max_timesteps):\n",
    "        action = agent.act(state, epsilon=0.0)  # Use the trained policy (epsilon=0.0)\n",
    "        next_state, reward, done, _, _ = env.step(action)\n",
    "        state = next_state\n",
    "        total_reward += reward\n",
    "        if done:\n",
    "            break\n",
    "    env.close()\n",
    "    print(f\"Total reward: {total_reward}\")\n",
    "\n",
    "# Create the environment with render_mode='rgb_array'\n",
    "env = gym.make('LunarLander-v2', render_mode='rgb_array')\n",
    "\n",
    "# Visualize the agent's behavior and save the video\n",
    "visualize_episode(env, agent, video_folder='videos')\n",
    "\n",
    "# Display the video\n",
    "def show_video(video_path):\n",
    "    video = io.open(video_path, 'r+b').read()\n",
    "    encoded = base64.b64encode(video)\n",
    "    return HTML(data='''<video alt=\"test\" controls>\n",
    "                            <source src=\"data:video/mp4;base64,{0}\" type=\"video/mp4\" />\n",
    "                        </video>'''.format(encoded.decode('ascii')))\n",
    "\n",
    "# Replace 'video_file_path' with the actual path of the generated video file\n",
    "video_file_path = 'videos/rl-video-episode-0.mp4'  # Adjust the path according to the generated file\n",
    "show_video(video_file_path)\n"
   ]
  },
  {
   "cell_type": "code",
   "execution_count": 1,
   "metadata": {
    "id": "Ekom1XXnyToT"
   },
   "outputs": [
    {
     "data": {
      "image/png": "[encoded data removed]",
      "text/plain": [
       "<Figure size 1200x600 with 1 Axes>"
      ]
     },
     "metadata": {},
     "output_type": "display_data"
    }
   ],
   "source": [
    "import matplotlib.pyplot as plt\n",
    "import numpy as np\n",
    "import pickle\n",
    "\n",
    "# Replace this with the actual data from your training logs\n",
    "episodes = np.arange(1, 2001)\n",
    "average_rewards_transformer = np.random.normal(0, 10, 2000).cumsum() / np.arange(1, 2001)\n",
    "total_reward_transformer = average_rewards_transformer.sum()\n",
    "episodes_to_solve_transformer = 1200  # Example episodes to solve\n",
    "\n",
    "# Save the data to a pickle file for later use\n",
    "with open('transformer_data.pkl', 'wb') as f:\n",
    "    pickle.dump({\n",
    "        'episodes': episodes,\n",
    "        'average_rewards': average_rewards_transformer,\n",
    "        'total_reward': total_reward_transformer,\n",
    "        'episodes_to_solve': episodes_to_solve_transformer\n",
    "    }, f)\n",
    "\n",
    "# Plot average reward per episode\n",
    "plt.figure(figsize=(12, 6))\n",
    "plt.plot(episodes, average_rewards_transformer, label='Transformer RL')\n",
    "plt.xlabel('Episode')\n",
    "plt.ylabel('Average Reward')\n",
    "plt.title('Average Reward per Episode - Transformer RL')\n",
    "plt.legend()\n",
    "plt.grid()\n",
    "plt.savefig('transformer_average_reward.png')\n",
    "plt.show()\n"
   ]
  },
  {
   "cell_type": "code",
   "execution_count": null,
   "metadata": {},
   "outputs": [],
   "source": []
  }
 ],
 "metadata": {
  "colab": {
   "provenance": []
  },
  "kernelspec": {
   "display_name": "Python 3 (ipykernel)",
   "language": "python",
   "name": "python3"
  },
  "language_info": {
   "codemirror_mode": {
    "name": "ipython",
    "version": 3
   },
   "file_extension": ".py",
   "mimetype": "text/x-python",
   "name": "python",
   "nbconvert_exporter": "python",
   "pygments_lexer": "ipython3",
   "version": "3.11.9"
  }
 },
 "nbformat": 4,
 "nbformat_minor": 4
}
